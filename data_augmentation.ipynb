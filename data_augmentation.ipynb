{
 "cells": [
  {
   "attachments": {},
   "cell_type": "markdown",
   "metadata": {},
   "source": [
    "# Importing Libraries"
   ]
  },
  {
   "cell_type": "code",
   "execution_count": 2,
   "metadata": {},
   "outputs": [],
   "source": [
    "import pickle\n",
    "import numpy as np\n",
    "import pandas as pd\n",
    "from PIL import Image\n",
    "import albumentations as A\n",
    "from IPython.display import SVG\n",
    "import matplotlib.pyplot as plt\n",
    "%matplotlib inline\n",
    "import os, re, sys, random, shutil, cv2\n",
    "\n",
    "import tensorflow as tf\n",
    "from tensorflow import keras\n",
    "from keras import backend as K\n",
    "from keras.models import Model\n",
    "from keras.optimizers import Adam, Nadam\n",
    "from keras import applications, optimizers\n",
    "from keras.applications import InceptionResNetV2\n",
    "from keras.applications import resnet\n",
    "\n",
    "from keras.preprocessing.image import ImageDataGenerator\n",
    "from keras.utils import model_to_dot, plot_model\n",
    "from keras.callbacks import ModelCheckpoint, ReduceLROnPlateau, EarlyStopping, CSVLogger, LearningRateScheduler\n",
    "from keras.layers import Input, Conv2D, BatchNormalization, Activation, MaxPool2D, Conv2DTranspose, Concatenate, ZeroPadding2D, Dropout"
   ]
  },
  {
   "attachments": {},
   "cell_type": "markdown",
   "metadata": {},
   "source": [
    "# Data Augmentation"
   ]
  },
  {
   "cell_type": "code",
   "execution_count": 3,
   "metadata": {},
   "outputs": [],
   "source": [
    "images_dir = './data/images/'\n",
    "masks_dir = './data/masks/'"
   ]
  },
  {
   "cell_type": "code",
   "execution_count": 8,
   "metadata": {},
   "outputs": [],
   "source": [
    "file_names = np.sort(os.listdir(images_dir))\n",
    "file_names = np.char.split(file_names, '.')\n",
    "filenames = np.array([])\n",
    "for i in range(len(file_names)):\n",
    "    filenames = np.append(filenames, file_names[i][0])"
   ]
  },
  {
   "cell_type": "code",
   "execution_count": 10,
   "metadata": {},
   "outputs": [],
   "source": [
    "transform_1 = A.Compose([\n",
    "    A.HorizontalFlip(p=1.0),\n",
    "    A.VerticalFlip(p=1.0),\n",
    "    A.Rotate(limit=[60, 300], p=1.0, interpolation=cv2.INTER_NEAREST),\n",
    "    A.OneOf([\n",
    "        A.GridDistortion(distort_limit= 0.2,p=0.5),\n",
    "        A.OpticalDistortion(distort_limit=1, shift_limit=0.5, interpolation=cv2.INTER_NEAREST, p=0.5),\n",
    "    ], p=1.0),\n",
    "], p=1.0)\n",
    "\n",
    "transform_2 = A.Compose([\n",
    "   A.RandomBrightnessContrast(brightness_limit=[-0.05, 0.20], contrast_limit=0.2, p=1.0),\n",
    "    A.OneOf([\n",
    "        A.CLAHE (clip_limit=1.5, tile_grid_size=(8, 8), p=0.5),\n",
    "    ], p=1.0),\n",
    "], p=1.0)"
   ]
  },
  {
   "cell_type": "code",
   "execution_count": 13,
   "metadata": {},
   "outputs": [
    {
     "name": "stdout",
     "output_type": "stream",
     "text": [
      "loop 1 ...\n",
      "loop 2 ...\n",
      "loop 3 ...\n",
      "loop 4 ...\n",
      "loop 5 ...\n",
      "loop 6 ...\n",
      "loop 7 ...\n",
      "loop 8 ...\n",
      "loop 9 ...\n",
      "loop 10 ...\n"
     ]
    }
   ],
   "source": [
    "for i in range(8):\n",
    "    print(f\"loop {i+1} ...\")\n",
    "    for file in filenames:\n",
    "        img = cv2.imread(images_dir+file+'.png')\n",
    "        img = cv2.cvtColor(img, cv2.COLOR_BGR2RGB)\n",
    "        mask = cv2.imread(masks_dir+'mask'+file[5:]+'.png')\n",
    "        mask = cv2.cvtColor(mask, cv2.COLOR_BGR2RGB)\n",
    "\n",
    "        transformed = transform_1(image=img, mask=mask)\n",
    "        transformed_image = transformed['image']\n",
    "        transformed_mask = transformed['mask']\n",
    "\n",
    "        cv2.imwrite('./data/images/aug_image{}_'.format(str(i+1))+file[5:]+'.png', cv2.cvtColor(transformed_image, cv2.COLOR_BGR2RGB))\n",
    "        cv2.imwrite('./data/masks/aug_mask{}_'.format(str(i+1))+file[5:]+'.png', cv2.cvtColor(transformed_mask, cv2.COLOR_BGR2RGB))\n",
    "\n",
    "for i in range(8, 10):\n",
    "    print(f\"loop {i+1} ...\")\n",
    "    for file in filenames:\n",
    "        img = cv2.imread(images_dir+file+'.png')\n",
    "        img = cv2.cvtColor(img, cv2.COLOR_BGR2RGB)\n",
    "        mask = cv2.imread(masks_dir+'mask'+file[5:]+'.png')\n",
    "        mask = cv2.cvtColor(mask, cv2.COLOR_BGR2RGB)\n",
    "\n",
    "        transformed = transform_2(image=img)\n",
    "        transformed_image = transformed['image']\n",
    "        transformed_mask = mask\n",
    "\n",
    "        cv2.imwrite('./data/images/aug_image{}_'.format(str(i+1))+file[5:]+'.png', cv2.cvtColor(transformed_image, cv2.COLOR_BGR2RGB))\n",
    "        cv2.imwrite('./data/masks/aug_mask{}_'.format(str(i+1))+file[5:]+'.png', cv2.cvtColor(transformed_mask, cv2.COLOR_BGR2RGB))"
   ]
  },
  {
   "cell_type": "code",
   "execution_count": 86,
   "metadata": {},
   "outputs": [],
   "source": [
    "mask_segment = np.zeros(mask.shape, dtype=np.uint8)\n",
    "mask_segment[mask < 32] = 0\n",
    "mask_segment[mask >= 32] = 1\n",
    "mask_segment[mask >= 95] = 2\n",
    "mask_segment[mask >= 159] = 3\n",
    "mask_segment[mask >=223] = 4\n",
    "mask_segment = mask_segment[:,:,0]"
   ]
  }
 ],
 "metadata": {
  "kernelspec": {
   "display_name": "Python 3",
   "language": "python",
   "name": "python3"
  },
  "language_info": {
   "codemirror_mode": {
    "name": "ipython",
    "version": 3
   },
   "file_extension": ".py",
   "mimetype": "text/x-python",
   "name": "python",
   "nbconvert_exporter": "python",
   "pygments_lexer": "ipython3",
   "version": "3.10.9"
  },
  "orig_nbformat": 4,
  "vscode": {
   "interpreter": {
    "hash": "d8580c71030c978e9f5b33921c832313beab3d7fd263d57ca25cdd65963236b4"
   }
  }
 },
 "nbformat": 4,
 "nbformat_minor": 2
}
